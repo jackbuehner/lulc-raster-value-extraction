{
 "cells": [
  {
   "cell_type": "code",
   "execution_count": 75,
   "metadata": {},
   "outputs": [],
   "source": [
    "\n",
    "import rasterio\n",
    "import matplotlib\n",
    "import matplotlib.pyplot as pyplot\n",
    "from matplotlib.colors import ListedColormap\n",
    "from functional import seq\n",
    "import numpy\n"
   ]
  },
  {
   "cell_type": "markdown",
   "metadata": {},
   "source": [
    "Show raster"
   ]
  },
  {
   "cell_type": "code",
   "execution_count": null,
   "metadata": {},
   "outputs": [],
   "source": [
    "with rasterio.open(\"./data/CONUS_Landcover_B1/CONUS_B1_y2030.tif\") as src:\n",
    "  band1 = src.read(1) # as a numpy array\n",
    "  \n",
    "  # get the colormap for the band\n",
    "  embedded_colormap: dict = src.colormap(1)  \n",
    "  colors = seq(list(embedded_colormap.values())).map(lambda color: tuple(item / 255 for item in color)).list()\n",
    "  colormap = ListedColormap(colors[0:18]) # do not include unused values or pyplot will not be able to plot the colors correctly\n",
    "  \n",
    "  # show nunmpy array as a raster image\n",
    "  pyplot.imshow(band1, cmap=colormap)\n",
    "  pyplot.show()"
   ]
  },
  {
   "cell_type": "code",
   "execution_count": null,
   "metadata": {},
   "outputs": [],
   "source": [
    "with rasterio.open(\"./data/CONUS_Landcover_B1/CONUS_B1_y2030.tif\") as src:\n",
    "  out_meta = src.meta\n",
    "  \n",
    "  band1 = src.read(1) # as a numpy array\n",
    "  \n",
    "  # create new array where all values in the band of 2 becomes 1 and everything else becomes 0\n",
    "  # in order to create an array that shows where developed land is located\n",
    "  recalc = numpy.where(band1 == 2, 1, 0)\n",
    "  \n",
    "with rasterio.open(\"/mnt/d/output.tif\", 'w', **out_meta) as dataset:\n",
    "  dataset.write(recalc, 1)\n",
    "  "
   ]
  },
  {
   "cell_type": "code",
   "execution_count": null,
   "metadata": {},
   "outputs": [],
   "source": [
    "# open the raster and lock it in the filesystem while working on it\n",
    "raster = rasterio.open(\"./data/CONUS_Landcover_B1/CONUS_B1_y2030.tif\")\n",
    "\n",
    "e = [2]\n",
    "\n",
    "\n",
    "\n",
    "# create new array where all values in the band of 2 becomes 1 and everything else becomes 0\n",
    "# in order to create an array that shows where developed land is located\n",
    "band1 = raster.read(1)\n",
    "recalc = numpy.where(numpy.isin(band1, e), 1, 0)\n",
    "\n",
    "pyplot.imshow(recalc)\n",
    "pyplot.show()\n",
    "\n",
    "# export the extracted band pixel values\n",
    "# with the extracted band as black pixels and the rest as transparent white pixels\n",
    "out_profile = raster.profile.copy()\n",
    "out_profile.update(nodata=0)\n",
    "with rasterio.open(\"/mnt/d/output.tif\", \"w\", **out_profile) as dest:\n",
    "   dest.write(recalc, 1)\n",
    "   dest.write_colormap(1, { 1: (255, 0, 0, 255) })\n",
    "\n",
    "# remove the lock on the raster\n",
    "raster.close()"
   ]
  },
  {
   "cell_type": "code",
   "execution_count": null,
   "metadata": {},
   "outputs": [],
   "source": []
  }
 ],
 "metadata": {
  "kernelspec": {
   "display_name": "geo",
   "language": "python",
   "name": "python3"
  },
  "language_info": {
   "codemirror_mode": {
    "name": "ipython",
    "version": 3
   },
   "file_extension": ".py",
   "mimetype": "text/x-python",
   "name": "python",
   "nbconvert_exporter": "python",
   "pygments_lexer": "ipython3",
   "version": "3.11.5"
  },
  "orig_nbformat": 4
 },
 "nbformat": 4,
 "nbformat_minor": 2
}
